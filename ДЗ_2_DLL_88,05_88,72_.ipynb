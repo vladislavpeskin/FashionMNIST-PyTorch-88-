{
  "nbformat": 4,
  "nbformat_minor": 0,
  "metadata": {
    "colab": {
      "name": "ДЗ 2 DLL 88,05 - 88,72%",
      "provenance": [],
      "collapsed_sections": []
    },
    "kernelspec": {
      "name": "python3",
      "display_name": "Python 3"
    },
    "language_info": {
      "name": "python"
    }
  },
  "cells": [
    {
      "cell_type": "code",
      "metadata": {
        "colab": {
          "base_uri": "https://localhost:8080/"
        },
        "id": "E2wJbairfNOO",
        "outputId": "d08e6f9a-2d0f-489c-8a8b-a0239ea06e2f"
      },
      "source": [
        "import matplotlib.pyplot as plt\n",
        "import torchvision as tv\n",
        "import time\n",
        "import numpy as np\n",
        "import torch\n",
        "%matplotlib inline"
      ],
      "execution_count": null,
      "outputs": [
        {
          "output_type": "execute_result",
          "data": {
            "text/plain": [
              "False"
            ]
          },
          "metadata": {
            "tags": []
          },
          "execution_count": 34
        }
      ]
    },
    {
      "cell_type": "code",
      "metadata": {
        "id": "nJDkdsZqffE2"
      },
      "source": [
        "BATCH_SIZE=128\n",
        "train_dataset = tv.datasets.FashionMNIST('.', train=True, transform=tv.transforms.ToTensor(), download=True)\n",
        "test_dataset = tv.datasets.FashionMNIST('.', train=False, transform=tv.transforms.ToTensor(), download=True)\n",
        "train = torch.utils.data.DataLoader(train_dataset, batch_size=BATCH_SIZE)\n",
        "test = torch.utils.data.DataLoader(test_dataset, batch_size=BATCH_SIZE)"
      ],
      "execution_count": null,
      "outputs": []
    },
    {
      "cell_type": "code",
      "metadata": {
        "id": "a_WOnHI9gkgG"
      },
      "source": [
        "plt.imshow(train_dataset[2][0].numpy().reshape(28,28), cmap='BuPu')"
      ],
      "execution_count": null,
      "outputs": []
    },
    {
      "cell_type": "code",
      "metadata": {
        "id": "70kxVLV4hdtJ"
      },
      "source": [
        "model = torch.nn.Sequential(\n",
        "    torch.nn.Flatten(),\n",
        "    torch.nn.Linear(784, 128),\n",
        "    torch.nn.ReLU(),\n",
        "    torch.nn.Linear(128, 10)\n",
        ")"
      ],
      "execution_count": null,
      "outputs": []
    },
    {
      "cell_type": "code",
      "metadata": {
        "id": "V2Jb9T-mhslm"
      },
      "source": [
        "loss = torch.nn.CrossEntropyLoss()\n",
        "trainer = torch.optim.SGD(model.parameters(), lr=.1)\n",
        "num_epochs = 30"
      ],
      "execution_count": null,
      "outputs": []
    },
    {
      "cell_type": "code",
      "metadata": {
        "colab": {
          "base_uri": "https://localhost:8080/"
        },
        "id": "CENvzMH3izQI",
        "outputId": "db95a642-1798-449f-91ce-56e77b1d3661"
      },
      "source": [
        "for ep in range(num_epochs):\n",
        "    train_iters, train_passed  = 0, 0\n",
        "    train_loss, train_acc = 0., 0.\n",
        "    start=time.time()\n",
        "    \n",
        "    model.train()\n",
        "    for X, y in train:\n",
        "        trainer.zero_grad()\n",
        "        y_pred = model(X)\n",
        "        l = loss(y_pred, y)\n",
        "        l.backward()\n",
        "        trainer.step()\n",
        "        train_loss += l.item()\n",
        "        train_acc += (y_pred.argmax(dim=1) == y).sum().item()\n",
        "        train_iters += 1\n",
        "        train_passed += len(X)\n",
        "    \n",
        "    test_iters, test_passed  = 0, 0\n",
        "    test_loss, test_acc = 0., 0.\n",
        "    model.eval()\n",
        "    for X, y in test:\n",
        "        y_pred = model(X)\n",
        "        l = loss(y_pred, y)\n",
        "        test_loss += l.item()\n",
        "        test_acc += (y_pred.argmax(dim=1) == y).sum().item()\n",
        "        test_iters += 1\n",
        "        test_passed += len(X)\n",
        "        \n",
        "    print(\"ep: {}, taked: {:.3f}, train_loss: {}, train_acc: {}, test_loss: {}, test_acc: {}\".format(\n",
        "        ep, time.time() - start, train_loss / train_iters, train_acc / train_passed,\n",
        "        test_loss / test_iters, test_acc / test_passed)\n",
        "    )"
      ],
      "execution_count": null,
      "outputs": [
        {
          "output_type": "stream",
          "text": [
            "ep: 0, taked: 6.010, train_loss: 0.26598362252910507, train_acc: 0.90355, test_loss: 0.33392719735827625, test_acc: 0.8805\n",
            "ep: 1, taked: 5.870, train_loss: 0.26216526107111976, train_acc: 0.9043, test_loss: 0.33323092362548734, test_acc: 0.8814\n",
            "ep: 2, taked: 5.858, train_loss: 0.25845871932470976, train_acc: 0.9060833333333334, test_loss: 0.3322202759453013, test_acc: 0.8819\n",
            "ep: 3, taked: 5.822, train_loss: 0.2546147085519742, train_acc: 0.9077166666666666, test_loss: 0.3310512366551387, test_acc: 0.8838\n",
            "ep: 4, taked: 5.833, train_loss: 0.25089879054377584, train_acc: 0.9089666666666667, test_loss: 0.33008341396911234, test_acc: 0.8835\n",
            "ep: 5, taked: 5.810, train_loss: 0.2471806391724137, train_acc: 0.9105666666666666, test_loss: 0.3292321543904799, test_acc: 0.8852\n",
            "ep: 6, taked: 5.914, train_loss: 0.24377540649889884, train_acc: 0.9120333333333334, test_loss: 0.32906540379494054, test_acc: 0.8848\n",
            "ep: 7, taked: 5.914, train_loss: 0.24070426488100594, train_acc: 0.9130833333333334, test_loss: 0.32906088006647327, test_acc: 0.8856\n",
            "ep: 8, taked: 5.867, train_loss: 0.2373459036670514, train_acc: 0.9146333333333333, test_loss: 0.32818955673447137, test_acc: 0.8861\n",
            "ep: 9, taked: 5.867, train_loss: 0.23428127727211157, train_acc: 0.9158666666666667, test_loss: 0.3269059196869029, test_acc: 0.8861\n",
            "ep: 10, taked: 5.877, train_loss: 0.23109074562851553, train_acc: 0.9170833333333334, test_loss: 0.32710399337207213, test_acc: 0.886\n",
            "ep: 11, taked: 5.909, train_loss: 0.2282669362959577, train_acc: 0.9179166666666667, test_loss: 0.32784163074780115, test_acc: 0.8864\n",
            "ep: 12, taked: 5.871, train_loss: 0.2253390508832962, train_acc: 0.9190166666666667, test_loss: 0.32762322650302816, test_acc: 0.8868\n",
            "ep: 13, taked: 5.835, train_loss: 0.22221474386036777, train_acc: 0.9208, test_loss: 0.3276581460539299, test_acc: 0.8864\n",
            "ep: 14, taked: 5.871, train_loss: 0.21949602511010444, train_acc: 0.9214, test_loss: 0.3269035690758802, test_acc: 0.8855\n",
            "ep: 15, taked: 5.815, train_loss: 0.21704558453071854, train_acc: 0.9229166666666667, test_loss: 0.3277611394849005, test_acc: 0.8866\n",
            "ep: 16, taked: 5.840, train_loss: 0.21421180660727182, train_acc: 0.9235666666666666, test_loss: 0.32759305985668036, test_acc: 0.8875\n",
            "ep: 17, taked: 5.821, train_loss: 0.2115150207776759, train_acc: 0.9245833333333333, test_loss: 0.32859797832332077, test_acc: 0.8871\n",
            "ep: 18, taked: 5.854, train_loss: 0.20891687831581274, train_acc: 0.92585, test_loss: 0.3278976551528218, test_acc: 0.8889\n",
            "ep: 19, taked: 5.835, train_loss: 0.20625818371455043, train_acc: 0.92645, test_loss: 0.32841698570719247, test_acc: 0.8867\n",
            "ep: 20, taked: 5.812, train_loss: 0.20376173776985484, train_acc: 0.92775, test_loss: 0.3291661031072653, test_acc: 0.8877\n",
            "ep: 21, taked: 5.822, train_loss: 0.2015562383636737, train_acc: 0.9291833333333334, test_loss: 0.33005866210294676, test_acc: 0.8888\n",
            "ep: 22, taked: 5.802, train_loss: 0.19916160026592994, train_acc: 0.9299666666666667, test_loss: 0.32951558956617044, test_acc: 0.8888\n",
            "ep: 23, taked: 5.862, train_loss: 0.19673673927720423, train_acc: 0.9309, test_loss: 0.33045462056805813, test_acc: 0.8877\n",
            "ep: 24, taked: 5.871, train_loss: 0.19447116847676255, train_acc: 0.9314333333333333, test_loss: 0.33196643013742905, test_acc: 0.8894\n",
            "ep: 25, taked: 5.832, train_loss: 0.19249312037915817, train_acc: 0.9322833333333334, test_loss: 0.33100789125207103, test_acc: 0.8892\n",
            "ep: 26, taked: 5.853, train_loss: 0.19000393910003877, train_acc: 0.933, test_loss: 0.33197583701414396, test_acc: 0.888\n",
            "ep: 27, taked: 5.865, train_loss: 0.18779244783844776, train_acc: 0.9337166666666666, test_loss: 0.332268023509768, test_acc: 0.8882\n",
            "ep: 28, taked: 5.880, train_loss: 0.18593491651991537, train_acc: 0.9343833333333333, test_loss: 0.3327052983679349, test_acc: 0.8888\n",
            "ep: 29, taked: 5.852, train_loss: 0.18386015172070785, train_acc: 0.9350166666666667, test_loss: 0.33559113212778596, test_acc: 0.8872\n"
          ],
          "name": "stdout"
        }
      ]
    }
  ]
}